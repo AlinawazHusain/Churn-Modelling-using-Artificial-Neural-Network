{
 "cells": [
  {
   "attachments": {},
   "cell_type": "markdown",
   "metadata": {},
   "source": [
    "Importing General Libraries and Loading Data\n"
   ]
  },
  {
   "cell_type": "code",
   "execution_count": 1,
   "metadata": {},
   "outputs": [],
   "source": [
    "import numpy as np\n",
    "import pandas as pd\n",
    "import matplotlib.pyplot as plt \n"
   ]
  },
  {
   "cell_type": "code",
   "execution_count": 2,
   "metadata": {},
   "outputs": [],
   "source": [
    "data=pd.read_csv(\"D:\\Deep learning\\practice\\Churn_Modelling.csv\")"
   ]
  },
  {
   "cell_type": "code",
   "execution_count": 3,
   "metadata": {},
   "outputs": [],
   "source": [
    "X=data.iloc[:,3:-1].values\n",
    "Y=data.iloc[:,-1].values"
   ]
  },
  {
   "attachments": {},
   "cell_type": "markdown",
   "metadata": {},
   "source": [
    "Data PreProcessing"
   ]
  },
  {
   "cell_type": "code",
   "execution_count": 4,
   "metadata": {},
   "outputs": [],
   "source": [
    "from sklearn.preprocessing import LabelEncoder\n",
    "le=LabelEncoder()\n",
    "X[:,2]=le.fit_transform(X[:,2])"
   ]
  },
  {
   "cell_type": "code",
   "execution_count": 5,
   "metadata": {},
   "outputs": [],
   "source": [
    "le2=LabelEncoder()\n",
    "X[:,1]=le.fit_transform(X[:,1])"
   ]
  },
  {
   "attachments": {},
   "cell_type": "markdown",
   "metadata": {},
   "source": [
    "Feature Scalling"
   ]
  },
  {
   "cell_type": "code",
   "execution_count": 6,
   "metadata": {},
   "outputs": [],
   "source": [
    "from sklearn.preprocessing import StandardScaler\n",
    "sc=StandardScaler()\n",
    "X[:,:]=sc.fit_transform(X[:,:])"
   ]
  },
  {
   "attachments": {},
   "cell_type": "markdown",
   "metadata": {},
   "source": [
    "Splitting in Test and Train DataSets"
   ]
  },
  {
   "cell_type": "code",
   "execution_count": 8,
   "metadata": {},
   "outputs": [],
   "source": [
    "from sklearn.model_selection import train_test_split\n",
    "x_train,x_test,y_train,y_test=train_test_split(X,Y, random_state=0,test_size=0.2)"
   ]
  },
  {
   "cell_type": "code",
   "execution_count": 14,
   "metadata": {},
   "outputs": [],
   "source": [
    "x_train=np.array(x_train)\n",
    "y_train=np.array(y_train)"
   ]
  },
  {
   "attachments": {},
   "cell_type": "markdown",
   "metadata": {},
   "source": [
    "converting data type to float"
   ]
  },
  {
   "cell_type": "code",
   "execution_count": 26,
   "metadata": {},
   "outputs": [],
   "source": [
    "x_train= np.asarray(x_train).astype(np.float_)\n",
    "y_train= np.array(y_train).astype(np.float_)\n",
    "x_test=np.array(x_test).astype(np.float_)\n",
    "y_teat=np.array(y_test).astype(np.float_)"
   ]
  },
  {
   "attachments": {},
   "cell_type": "markdown",
   "metadata": {},
   "source": [
    "Importing TensorFlow and Building Artificial neural network"
   ]
  },
  {
   "cell_type": "code",
   "execution_count": 21,
   "metadata": {},
   "outputs": [],
   "source": [
    "import tensorflow as tf"
   ]
  },
  {
   "cell_type": "code",
   "execution_count": 28,
   "metadata": {},
   "outputs": [
    {
     "name": "stdout",
     "output_type": "stream",
     "text": [
      "Epoch 1/50\n",
      "267/267 [==============================] - 1s 2ms/step - loss: 0.5898 - accuracy: 0.7240\n",
      "Epoch 2/50\n",
      "267/267 [==============================] - 0s 2ms/step - loss: 0.4734 - accuracy: 0.8001\n",
      "Epoch 3/50\n",
      "267/267 [==============================] - 0s 2ms/step - loss: 0.4463 - accuracy: 0.8037\n",
      "Epoch 4/50\n",
      "267/267 [==============================] - 0s 2ms/step - loss: 0.4306 - accuracy: 0.8096\n",
      "Epoch 5/50\n",
      "267/267 [==============================] - 0s 2ms/step - loss: 0.4188 - accuracy: 0.8150\n",
      "Epoch 6/50\n",
      "267/267 [==============================] - 0s 2ms/step - loss: 0.4075 - accuracy: 0.8238\n",
      "Epoch 7/50\n",
      "267/267 [==============================] - 1s 2ms/step - loss: 0.3961 - accuracy: 0.8316\n",
      "Epoch 8/50\n",
      "267/267 [==============================] - 0s 1ms/step - loss: 0.3865 - accuracy: 0.8391\n",
      "Epoch 9/50\n",
      "267/267 [==============================] - 0s 2ms/step - loss: 0.3786 - accuracy: 0.8444\n",
      "Epoch 10/50\n",
      "267/267 [==============================] - 0s 2ms/step - loss: 0.3726 - accuracy: 0.8459\n",
      "Epoch 11/50\n",
      "267/267 [==============================] - 0s 2ms/step - loss: 0.3686 - accuracy: 0.8493\n",
      "Epoch 12/50\n",
      "267/267 [==============================] - 0s 1ms/step - loss: 0.3652 - accuracy: 0.8508\n",
      "Epoch 13/50\n",
      "267/267 [==============================] - 0s 2ms/step - loss: 0.3633 - accuracy: 0.8493\n",
      "Epoch 14/50\n",
      "267/267 [==============================] - 0s 1ms/step - loss: 0.3616 - accuracy: 0.8487\n",
      "Epoch 15/50\n",
      "267/267 [==============================] - 0s 2ms/step - loss: 0.3601 - accuracy: 0.8508\n",
      "Epoch 16/50\n",
      "267/267 [==============================] - 0s 1ms/step - loss: 0.3591 - accuracy: 0.8525\n",
      "Epoch 17/50\n",
      "267/267 [==============================] - 0s 2ms/step - loss: 0.3579 - accuracy: 0.8520\n",
      "Epoch 18/50\n",
      "267/267 [==============================] - 0s 1ms/step - loss: 0.3575 - accuracy: 0.8519\n",
      "Epoch 19/50\n",
      "267/267 [==============================] - 0s 2ms/step - loss: 0.3566 - accuracy: 0.8518\n",
      "Epoch 20/50\n",
      "267/267 [==============================] - 0s 2ms/step - loss: 0.3561 - accuracy: 0.8525\n",
      "Epoch 21/50\n",
      "267/267 [==============================] - 0s 2ms/step - loss: 0.3556 - accuracy: 0.8537\n",
      "Epoch 22/50\n",
      "267/267 [==============================] - 0s 2ms/step - loss: 0.3548 - accuracy: 0.8547\n",
      "Epoch 23/50\n",
      "267/267 [==============================] - 0s 2ms/step - loss: 0.3541 - accuracy: 0.8545\n",
      "Epoch 24/50\n",
      "267/267 [==============================] - 0s 2ms/step - loss: 0.3535 - accuracy: 0.8547\n",
      "Epoch 25/50\n",
      "267/267 [==============================] - 0s 2ms/step - loss: 0.3532 - accuracy: 0.8549\n",
      "Epoch 26/50\n",
      "267/267 [==============================] - 1s 2ms/step - loss: 0.3528 - accuracy: 0.8546\n",
      "Epoch 27/50\n",
      "267/267 [==============================] - 1s 2ms/step - loss: 0.3517 - accuracy: 0.8554\n",
      "Epoch 28/50\n",
      "267/267 [==============================] - 1s 2ms/step - loss: 0.3515 - accuracy: 0.8554\n",
      "Epoch 29/50\n",
      "267/267 [==============================] - 0s 2ms/step - loss: 0.3506 - accuracy: 0.8562\n",
      "Epoch 30/50\n",
      "267/267 [==============================] - 1s 2ms/step - loss: 0.3499 - accuracy: 0.8568\n",
      "Epoch 31/50\n",
      "267/267 [==============================] - 1s 2ms/step - loss: 0.3497 - accuracy: 0.8560\n",
      "Epoch 32/50\n",
      "267/267 [==============================] - 0s 2ms/step - loss: 0.3485 - accuracy: 0.8566\n",
      "Epoch 33/50\n",
      "267/267 [==============================] - 0s 2ms/step - loss: 0.3479 - accuracy: 0.8574\n",
      "Epoch 34/50\n",
      "267/267 [==============================] - 1s 2ms/step - loss: 0.3471 - accuracy: 0.8576\n",
      "Epoch 35/50\n",
      "267/267 [==============================] - 1s 3ms/step - loss: 0.3470 - accuracy: 0.8575\n",
      "Epoch 36/50\n",
      "267/267 [==============================] - 1s 2ms/step - loss: 0.3462 - accuracy: 0.8580\n",
      "Epoch 37/50\n",
      "267/267 [==============================] - 0s 2ms/step - loss: 0.3463 - accuracy: 0.8577\n",
      "Epoch 38/50\n",
      "267/267 [==============================] - 0s 2ms/step - loss: 0.3457 - accuracy: 0.8574\n",
      "Epoch 39/50\n",
      "267/267 [==============================] - 1s 2ms/step - loss: 0.3456 - accuracy: 0.8583\n",
      "Epoch 40/50\n",
      "267/267 [==============================] - 0s 2ms/step - loss: 0.3451 - accuracy: 0.8575\n",
      "Epoch 41/50\n",
      "267/267 [==============================] - 1s 2ms/step - loss: 0.3448 - accuracy: 0.8579\n",
      "Epoch 42/50\n",
      "267/267 [==============================] - 0s 1ms/step - loss: 0.3445 - accuracy: 0.8580\n",
      "Epoch 43/50\n",
      "267/267 [==============================] - 0s 2ms/step - loss: 0.3444 - accuracy: 0.8585\n",
      "Epoch 44/50\n",
      "267/267 [==============================] - 0s 2ms/step - loss: 0.3442 - accuracy: 0.8581\n",
      "Epoch 45/50\n",
      "267/267 [==============================] - 0s 1ms/step - loss: 0.3443 - accuracy: 0.8574\n",
      "Epoch 46/50\n",
      "267/267 [==============================] - 0s 2ms/step - loss: 0.3439 - accuracy: 0.8584\n",
      "Epoch 47/50\n",
      "267/267 [==============================] - 0s 1ms/step - loss: 0.3438 - accuracy: 0.8583\n",
      "Epoch 48/50\n",
      "267/267 [==============================] - 0s 2ms/step - loss: 0.3438 - accuracy: 0.8583\n",
      "Epoch 49/50\n",
      "267/267 [==============================] - 0s 2ms/step - loss: 0.3435 - accuracy: 0.8576\n",
      "Epoch 50/50\n",
      "267/267 [==============================] - 0s 2ms/step - loss: 0.3433 - accuracy: 0.8594\n"
     ]
    }
   ],
   "source": [
    "ann=tf.keras.models.Sequential()\n",
    "ann.add(tf.keras.layers.Dense(units=6,activation='relu'))\n",
    "ann.add(tf.keras.layers.Dense(units=6,activation='relu'))\n",
    "ann.add(tf.keras.layers.Dense(units=1,activation='sigmoid'))\n",
    "ann.compile(optimizer='adam',loss='binary_crossentropy',metrics=['accuracy'])\n",
    "final_model=ann.fit(x_train,y_train,batch_size=30,epochs=50)\n"
   ]
  },
  {
   "cell_type": "code",
   "execution_count": 29,
   "metadata": {},
   "outputs": [
    {
     "data": {
      "text/plain": [
       "dict_keys(['loss', 'accuracy'])"
      ]
     },
     "execution_count": 29,
     "metadata": {},
     "output_type": "execute_result"
    }
   ],
   "source": [
    "final_model.history.keys()"
   ]
  },
  {
   "attachments": {},
   "cell_type": "markdown",
   "metadata": {},
   "source": [
    "Plotting Accuracy and Loss per epochs"
   ]
  },
  {
   "cell_type": "code",
   "execution_count": 64,
   "metadata": {},
   "outputs": [
    {
     "data": {
      "text/plain": [
       "<function matplotlib.pyplot.plot(*args, scalex=True, scaley=True, data=None, **kwargs)>"
      ]
     },
     "execution_count": 64,
     "metadata": {},
     "output_type": "execute_result"
    },
    {
     "data": {
      "image/png": "[encoded data removed]",
      "text/plain": [
       "<Figure size 640x480 with 1 Axes>"
      ]
     },
     "metadata": {},
     "output_type": "display_data"
    }
   ],
   "source": [
    "plt.plot(final_model.history['accuracy'],color='green')\n",
    "plt.title('Accuracy per epoch')\n",
    "plt.ylabel=('Accuracy')\n",
    "plt.xlabel=('Epochs')\n",
    "plt.plot"
   ]
  },
  {
   "cell_type": "code",
   "execution_count": 62,
   "metadata": {},
   "outputs": [
    {
     "data": {
      "text/plain": [
       "[]"
      ]
     },
     "execution_count": 62,
     "metadata": {},
     "output_type": "execute_result"
    },
    {
     "data": {
      "image/png": "[encoded data removed]",
      "text/plain": [
       "<Figure size 640x480 with 1 Axes>"
      ]
     },
     "metadata": {},
     "output_type": "display_data"
    }
   ],
   "source": [
    "plt.plot(final_model.history['loss'],color='red')\n",
    "plt.title('Loss per epoch')\n",
    "plt.xlabel=('Epochs')\n",
    "plt.ylabel=('Loss')\n",
    "plt.plot()"
   ]
  },
  {
   "attachments": {},
   "cell_type": "markdown",
   "metadata": {},
   "source": [
    "Predicting test results"
   ]
  },
  {
   "cell_type": "code",
   "execution_count": 43,
   "metadata": {},
   "outputs": [
    {
     "name": "stdout",
     "output_type": "stream",
     "text": [
      "63/63 [==============================] - 0s 1ms/step\n"
     ]
    }
   ],
   "source": [
    "y_pred=ann.predict(x_test)"
   ]
  },
  {
   "cell_type": "code",
   "execution_count": 45,
   "metadata": {},
   "outputs": [],
   "source": [
    "y_pred=(y_pred>0.5)"
   ]
  },
  {
   "cell_type": "code",
   "execution_count": 50,
   "metadata": {},
   "outputs": [
    {
     "data": {
      "text/plain": [
       "array([[1541,   54],\n",
       "       [ 221,  184]], dtype=int64)"
      ]
     },
     "execution_count": 50,
     "metadata": {},
     "output_type": "execute_result"
    }
   ],
   "source": [
    "from sklearn.metrics import confusion_matrix\n",
    "confusion_matrix(y_test, y_pred)"
   ]
  },
  {
   "cell_type": "code",
   "execution_count": 51,
   "metadata": {},
   "outputs": [
    {
     "data": {
      "text/plain": [
       "0.8625"
      ]
     },
     "execution_count": 51,
     "metadata": {},
     "output_type": "execute_result"
    }
   ],
   "source": [
    "from sklearn.metrics import accuracy_score\n",
    "accuracy_score(y_pred,y_test)"
   ]
  }
 ],
 "metadata": {
  "kernelspec": {
   "display_name": "base",
   "language": "python",
   "name": "python3"
  },
  "language_info": {
   "codemirror_mode": {
    "name": "ipython",
    "version": 3
   },
   "file_extension": ".py",
   "mimetype": "text/x-python",
   "name": "python",
   "nbconvert_exporter": "python",
   "pygments_lexer": "ipython3",
   "version": "3.9.13"
  },
  "orig_nbformat": 4
 },
 "nbformat": 4,
 "nbformat_minor": 2
}
